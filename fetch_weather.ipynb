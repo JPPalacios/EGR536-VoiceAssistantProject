{
 "cells": [
  {
   "cell_type": "markdown",
   "metadata": {},
   "source": [
    "# OpenWeather Requests\n",
    "The following notebook demonstrates how to requests the local weather from OpenWeather in a readable-format with the help of OpenAI's chat completion API."
   ]
  },
  {
   "cell_type": "code",
   "execution_count": 1,
   "metadata": {},
   "outputs": [],
   "source": [
    "import requests\n",
    "from pprint import pprint\n",
    "from openai import OpenAI\n",
    "\n",
    "client = OpenAI()\n",
    "MAX_PROMPT_TOKENS : int = 200"
   ]
  },
  {
   "cell_type": "markdown",
   "metadata": {},
   "source": [
    "## Configure OpenWeather Settings\n",
    "*NOTE*: You will need to get an OpenWeather API Key from their website. This example shows the current weather conditions for Grand Rapids."
   ]
  },
  {
   "cell_type": "code",
   "execution_count": 2,
   "metadata": {},
   "outputs": [
    {
     "name": "stdout",
     "output_type": "stream",
     "text": [
      "(\"{'coord': {'lon': -85.6681, 'lat': 42.9634}, 'weather': [{'id': 804, 'main': \"\n",
      " \"'Clouds', 'description': 'overcast clouds', 'icon': '04n'}], 'base': \"\n",
      " \"'stations', 'main': {'temp': 42.93, 'feels_like': 35.94, 'temp_min': 41.32, \"\n",
      " \"'temp_max': 45.16, 'pressure': 1016, 'humidity': 93}, 'visibility': 10000, \"\n",
      " \"'wind': {'speed': 13.8, 'deg': 70}, 'clouds': {'all': 100}, 'dt': \"\n",
      " \"1709698263, 'sys': {'type': 2, 'id': 2005020, 'country': 'US', 'sunrise': \"\n",
      " \"1709640677, 'sunset': 1709681825}, 'timezone': -18000, 'id': 4994358, \"\n",
      " \"'name': 'Grand Rapids', 'cod': 200}\")\n"
     ]
    }
   ],
   "source": [
    "# use OpenWeather API Key here\n",
    "API_KEY = ''\n",
    "city_name = 'Grand Rapids'\n",
    "country_code = 'us'\n",
    "\n",
    "url = f'https://api.openweathermap.org/data/2.5/weather?q={city_name},{country_code}&appid={API_KEY}&units=imperial'\n",
    "\n",
    "weather_data = f\"{requests.get(url).json()}\"\n",
    "pprint(weather_data)"
   ]
  },
  {
   "cell_type": "markdown",
   "metadata": {},
   "source": [
    "## Chat-GPT Summary\n",
    "We ask Chat-GPT to help summarize our weather information into natural english. This response is then used to produce a TTS `.mp3` file for later use."
   ]
  },
  {
   "cell_type": "code",
   "execution_count": 3,
   "metadata": {},
   "outputs": [
    {
     "name": "stdout",
     "output_type": "stream",
     "text": [
      "The weather in Grand Rapids is currently overcast with a temperature of 42.93 degrees Fahrenheit. It feels like 35.94 degrees Fahrenheit with a minimum temperature of 41.32 degrees Fahrenheit and a maximum temperature of 45.16 degrees Fahrenheit. The humidity is at 93% with a wind speed of 13.8 miles per hour coming from 70 degrees. The visibility is 10000 meters and there are 100% overcast clouds.\n"
     ]
    },
    {
     "name": "stderr",
     "output_type": "stream",
     "text": [
      "/var/folders/fq/h6xrtb0n29jb37n_vqg31jvc0000gn/T/ipykernel_21929/1375824804.py:29: DeprecationWarning: Due to a bug, this method doesn't actually stream the response content, `.with_streaming_response.method()` should be used instead\n",
      "  speech_response.stream_to_file(speech_response_file)\n"
     ]
    }
   ],
   "source": [
    "content = '''\n",
    "Your job is to summarize the following 'weather' section of the json file into natural English.\n",
    "Make sure units are spelled out in english.\n",
    "'''\n",
    "\n",
    "\n",
    "# note: assistant chat text response\n",
    "text_response = client.chat.completions.create(\n",
    "    model=\"gpt-3.5-turbo\",\n",
    "    messages=[\n",
    "        {\"role\": \"system\", \"content\": content},\n",
    "        {\"role\": \"user\", \"content\": weather_data}\n",
    "    ],\n",
    "    max_tokens=MAX_PROMPT_TOKENS\n",
    ").choices[0].message.content\n",
    "\n",
    "print(text_response)\n",
    "\n",
    "speech_response_file = 'weather_response.mp3'\n",
    "\n",
    "# note: text-to-speech response generation\n",
    "speech_response = client.audio.speech.create(\n",
    "    model=\"tts-1\",\n",
    "    voice=\"fable\",\n",
    "    input=text_response\n",
    ")\n",
    "\n",
    "# note: stream and read our response back\n",
    "speech_response.stream_to_file(speech_response_file)"
   ]
  }
 ],
 "metadata": {
  "kernelspec": {
   "display_name": "webapp",
   "language": "python",
   "name": "python3"
  },
  "language_info": {
   "codemirror_mode": {
    "name": "ipython",
    "version": 3
   },
   "file_extension": ".py",
   "mimetype": "text/x-python",
   "name": "python",
   "nbconvert_exporter": "python",
   "pygments_lexer": "ipython3",
   "version": "3.12.1"
  }
 },
 "nbformat": 4,
 "nbformat_minor": 2
}
